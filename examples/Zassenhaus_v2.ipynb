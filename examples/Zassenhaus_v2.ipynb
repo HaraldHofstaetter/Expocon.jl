{
 "cells": [
  {
   "cell_type": "code",
   "execution_count": 1,
   "metadata": {},
   "outputs": [],
   "source": [
    "using Expocon"
   ]
  },
  {
   "cell_type": "code",
   "execution_count": 2,
   "metadata": {},
   "outputs": [
    {
     "data": {
      "text/plain": [
       "A"
      ]
     },
     "execution_count": 2,
     "metadata": {},
     "output_type": "execute_result"
    }
   ],
   "source": [
    "A = Generator(\"A\")"
   ]
  },
  {
   "cell_type": "code",
   "execution_count": 3,
   "metadata": {},
   "outputs": [
    {
     "data": {
      "text/plain": [
       "B"
      ]
     },
     "execution_count": 3,
     "metadata": {},
     "output_type": "execute_result"
    }
   ],
   "source": [
    "B = Generator(\"B\")"
   ]
  },
  {
   "cell_type": "markdown",
   "metadata": {},
   "source": [
    "# Zassenhaus for $p=4$"
   ]
  },
  {
   "cell_type": "markdown",
   "metadata": {},
   "source": [
    "## Order conditions"
   ]
  },
  {
   "cell_type": "code",
   "execution_count": 4,
   "metadata": {},
   "outputs": [
    {
     "data": {
      "text/plain": [
       "exp((-1//2)*B)*exp((-1//2)*A)*exp(A+B)*exp((-1//2)*A)*exp((-1//2)*B)"
      ]
     },
     "execution_count": 4,
     "metadata": {},
     "output_type": "execute_result"
    }
   ],
   "source": [
    "Z4rev = exp(-1//2*B)*exp(-1//2*A)*exp(A+B)*exp(-1//2*A)*exp(-1//2*B)"
   ]
  },
  {
   "cell_type": "code",
   "execution_count": 5,
   "metadata": {},
   "outputs": [
    {
     "data": {
      "text/plain": [
       "2-element Array{Expocon.Word,1}:\n",
       " A.A.B\n",
       " A.B.B"
      ]
     },
     "execution_count": 5,
     "metadata": {},
     "output_type": "execute_result"
    }
   ],
   "source": [
    "W = lyndon_words([A, B], 3, all_lower_terms=false)"
   ]
  },
  {
   "cell_type": "code",
   "execution_count": 6,
   "metadata": {},
   "outputs": [
    {
     "data": {
      "text/plain": [
       "2-element Array{Rational{Int64},1}:\n",
       "  1//24\n",
       " -1//12"
      ]
     },
     "execution_count": 6,
     "metadata": {},
     "output_type": "execute_result"
    }
   ],
   "source": [
    "c = coeffs(W, Z4rev)"
   ]
  },
  {
   "cell_type": "code",
   "execution_count": 7,
   "metadata": {},
   "outputs": [
    {
     "data": {
      "text/plain": [
       "2-element Array{Expocon.SimpleCommutator,1}:\n",
       " [A,[A,B]]\n",
       " [[A,B],B]"
      ]
     },
     "execution_count": 7,
     "metadata": {},
     "output_type": "execute_result"
    }
   ],
   "source": [
    "L = lyndon_basis([A, B], 3, all_lower_terms=false)"
   ]
  },
  {
   "cell_type": "code",
   "execution_count": 8,
   "metadata": {},
   "outputs": [
    {
     "data": {
      "text/plain": [
       "2×2 Array{Rational{Int64},2}:\n",
       " 1//1  0//1\n",
       " 0//1  1//1"
      ]
     },
     "execution_count": 8,
     "metadata": {},
     "output_type": "execute_result"
    }
   ],
   "source": [
    "T = inv(Rational{Int}[coeff(w, l) for w in W, l in L])"
   ]
  },
  {
   "cell_type": "code",
   "execution_count": 9,
   "metadata": {},
   "outputs": [
    {
     "data": {
      "text/plain": [
       "1//24*[A,[A,B]]+(-1//12)*[[A,B],B]"
      ]
     },
     "execution_count": 9,
     "metadata": {},
     "output_type": "execute_result"
    }
   ],
   "source": [
    "C = sum(T*c.*L)"
   ]
  },
  {
   "cell_type": "code",
   "execution_count": 10,
   "metadata": {},
   "outputs": [
    {
     "data": {
      "text/plain": [
       "exp(1//2*A)*exp(1//2*B)*exp(1//24*[A,[A,B]]+(-1//12)*[[A,B],B])*exp(1//2*B)*exp(1//2*A)"
      ]
     },
     "execution_count": 10,
     "metadata": {},
     "output_type": "execute_result"
    }
   ],
   "source": [
    "Z4 = exp(1//2*A)*exp(1//2*B)*exp(C)*exp(1//2*B)*exp(1//2*A)"
   ]
  },
  {
   "cell_type": "code",
   "execution_count": 11,
   "metadata": {},
   "outputs": [
    {
     "data": {
      "text/plain": [
       "8-element Array{Expocon.Word,1}:\n",
       " A      \n",
       " B      \n",
       " A.B    \n",
       " A.A.B  \n",
       " A.B.B  \n",
       " A.A.A.B\n",
       " A.A.B.B\n",
       " A.B.B.B"
      ]
     },
     "execution_count": 11,
     "metadata": {},
     "output_type": "execute_result"
    }
   ],
   "source": [
    "W = lyndon_words([A, B], 4)"
   ]
  },
  {
   "cell_type": "code",
   "execution_count": 12,
   "metadata": {},
   "outputs": [
    {
     "data": {
      "text/plain": [
       "8-element Array{Rational{Int64},1}:\n",
       " 0//1\n",
       " 0//1\n",
       " 0//1\n",
       " 0//1\n",
       " 0//1\n",
       " 0//1\n",
       " 0//1\n",
       " 0//1"
      ]
     },
     "execution_count": 12,
     "metadata": {},
     "output_type": "execute_result"
    }
   ],
   "source": [
    "coeffs(W, Z4)-coeffs(W, exp(A+B))"
   ]
  },
  {
   "cell_type": "markdown",
   "metadata": {},
   "source": [
    "## Computation of $\\hat{\\mathcal{D}}$"
   ]
  },
  {
   "cell_type": "code",
   "execution_count": 13,
   "metadata": {},
   "outputs": [
    {
     "data": {
      "text/plain": [
       "(-1//2)*exp((-1//2)*B)*exp((-1//2)*A)*B*exp(1//2*A)*exp(1//2*B)+(-1//2)*exp(1//2*B)*exp(1//2*A)*B*exp((-1//2)*A)*exp((-1//2)*B)+B"
      ]
     },
     "execution_count": 13,
     "metadata": {},
     "output_type": "execute_result"
    }
   ],
   "source": [
    "D=1//2*(2*B\n",
    "  -exp(-1//2*B)*exp(-1//2*A)*B*exp(1//2*A)*exp(1//2*B)  \n",
    "  -exp(1//2*B)*exp(1//2*A)*B*exp(-1//2*A)*exp(-1//2*B)  \n",
    ")"
   ]
  },
  {
   "cell_type": "code",
   "execution_count": 14,
   "metadata": {},
   "outputs": [
    {
     "data": {
      "text/plain": [
       "10-element Array{Expocon.Word,1}:\n",
       " A        \n",
       " B        \n",
       " A.A.B    \n",
       " A.B.B    \n",
       " A.A.A.A.B\n",
       " A.A.A.B.B\n",
       " A.A.B.A.B\n",
       " A.A.B.B.B\n",
       " A.B.A.B.B\n",
       " A.B.B.B.B"
      ]
     },
     "execution_count": 14,
     "metadata": {},
     "output_type": "execute_result"
    }
   ],
   "source": [
    "W = lyndon_words([A,B], 6, odd_terms_only=true )"
   ]
  },
  {
   "cell_type": "code",
   "execution_count": 15,
   "metadata": {},
   "outputs": [
    {
     "data": {
      "text/plain": [
       "10-element Array{Expocon.Element,1}:\n",
       " A                \n",
       " B                \n",
       " [A,[B,A]]        \n",
       " [B,[B,A]]        \n",
       " [A,[A,[A,[B,A]]]]\n",
       " [B,[A,[A,[B,A]]]]\n",
       " [A,[B,[A,[B,A]]]]\n",
       " [B,[B,[A,[B,A]]]]\n",
       " [A,[B,[B,[B,A]]]]\n",
       " [B,[B,[B,[B,A]]]]"
      ]
     },
     "execution_count": 15,
     "metadata": {},
     "output_type": "execute_result"
    }
   ],
   "source": [
    "R = rightnormed_basis([A, B], 6, odd_terms_only=true)"
   ]
  },
  {
   "cell_type": "code",
   "execution_count": 16,
   "metadata": {},
   "outputs": [
    {
     "data": {
      "text/plain": [
       "10×10 Array{Rational{Int64},2}:\n",
       " 1//1  0//1   0//1  0//1   0//1   0//1   0//1   0//1   0//1  0//1\n",
       " 0//1  1//1   0//1  0//1   0//1   0//1   0//1   0//1   0//1  0//1\n",
       " 0//1  0//1  -1//1  0//1   0//1   0//1   0//1   0//1   0//1  0//1\n",
       " 0//1  0//1   0//1  1//1   0//1   0//1   0//1   0//1   0//1  0//1\n",
       " 0//1  0//1   0//1  0//1  -1//1   0//1   0//1   0//1   0//1  0//1\n",
       " 0//1  0//1   0//1  0//1   0//1  -2//1  -1//1   0//1   0//1  0//1\n",
       " 0//1  0//1   0//1  0//1   0//1   3//1   1//1   0//1   0//1  0//1\n",
       " 0//1  0//1   0//1  0//1   0//1   0//1   0//1  -3//1  -1//1  0//1\n",
       " 0//1  0//1   0//1  0//1   0//1   0//1   0//1   2//1   1//1  0//1\n",
       " 0//1  0//1   0//1  0//1   0//1   0//1   0//1   0//1   0//1  1//1"
      ]
     },
     "execution_count": 16,
     "metadata": {},
     "output_type": "execute_result"
    }
   ],
   "source": [
    "T = inv(Rational{Int}[coeff(w, r) for w in W, r in R])"
   ]
  },
  {
   "cell_type": "code",
   "execution_count": 17,
   "metadata": {},
   "outputs": [
    {
     "name": "stdout",
     "output_type": "stream",
     "text": [
      "0//1\tA\n",
      "0//1\tB\n",
      "1//8\t[A,[B,A]]\n",
      "1//4\t[B,[B,A]]\n",
      "1//384\t[A,[A,[A,[B,A]]]]\n",
      "1//96\t[B,[A,[A,[B,A]]]]\n",
      "0//1\t[A,[B,[A,[B,A]]]]\n",
      "1//64\t[B,[B,[A,[B,A]]]]\n",
      "0//1\t[A,[B,[B,[B,A]]]]\n",
      "1//96\t[B,[B,[B,[B,A]]]]\n"
     ]
    }
   ],
   "source": [
    "c = T*coeffs(W, D)\n",
    "for j=1:length(W)\n",
    "    println(\"$(c[j])\\t$(R[j])\")\n",
    "end"
   ]
  },
  {
   "cell_type": "markdown",
   "metadata": {},
   "source": [
    "# Zassenhaus for $p=6$"
   ]
  },
  {
   "cell_type": "markdown",
   "metadata": {},
   "source": [
    "## Order conditions"
   ]
  },
  {
   "cell_type": "code",
   "execution_count": 18,
   "metadata": {},
   "outputs": [
    {
     "data": {
      "text/plain": [
       "exp((-1//48)*[A,[A,B]]+1//24*[[A,B],B])*exp((-1//2)*B)*exp((-1//2)*A)*exp(A+B)*exp((-1//2)*A)*exp((-1//2)*B)*exp((-1//48)*[A,[A,B]]+1//24*[[A,B],B])"
      ]
     },
     "execution_count": 18,
     "metadata": {},
     "output_type": "execute_result"
    }
   ],
   "source": [
    "Z6rev = exp(-1//2*C)*exp(-1//2*B)*exp(-1//2*A)*exp(A+B)*exp(-1//2*A)*exp(-1//2*B)*exp(-1//2*C)"
   ]
  },
  {
   "cell_type": "code",
   "execution_count": 19,
   "metadata": {},
   "outputs": [
    {
     "data": {
      "text/plain": [
       "6-element Array{Expocon.Word,1}:\n",
       " A.A.A.A.B\n",
       " A.A.A.B.B\n",
       " A.A.B.A.B\n",
       " A.A.B.B.B\n",
       " A.B.A.B.B\n",
       " A.B.B.B.B"
      ]
     },
     "execution_count": 19,
     "metadata": {},
     "output_type": "execute_result"
    }
   ],
   "source": [
    "W = lyndon_words([A, B], 5, all_lower_terms=false)"
   ]
  },
  {
   "cell_type": "code",
   "execution_count": 20,
   "metadata": {},
   "outputs": [
    {
     "data": {
      "text/plain": [
       "6-element Array{Rational{Int64},1}:\n",
       "  1//1920\n",
       " -1//480 \n",
       "  1//120 \n",
       "  1//320 \n",
       " -1//480 \n",
       " -1//480 "
      ]
     },
     "execution_count": 20,
     "metadata": {},
     "output_type": "execute_result"
    }
   ],
   "source": [
    "d = coeffs(W,Z6rev)"
   ]
  },
  {
   "cell_type": "code",
   "execution_count": 21,
   "metadata": {},
   "outputs": [
    {
     "data": {
      "text/plain": [
       "6-element Array{Expocon.SimpleCommutator,1}:\n",
       " [A,[A,[A,[A,B]]]]\n",
       " [A,[A,[[A,B],B]]]\n",
       " [[A,[A,B]],[A,B]]\n",
       " [A,[[[A,B],B],B]]\n",
       " [[A,B],[[A,B],B]]\n",
       " [[[[A,B],B],B],B]"
      ]
     },
     "execution_count": 21,
     "metadata": {},
     "output_type": "execute_result"
    }
   ],
   "source": [
    "L = lyndon_basis([A, B], 5, all_lower_terms=false)"
   ]
  },
  {
   "cell_type": "code",
   "execution_count": 22,
   "metadata": {},
   "outputs": [
    {
     "data": {
      "text/plain": [
       "6×6 Array{Rational{Int64},2}:\n",
       " 1//1  0//1  0//1  0//1  0//1  0//1\n",
       " 0//1  1//1  0//1  0//1  0//1  0//1\n",
       " 0//1  2//1  1//1  0//1  0//1  0//1\n",
       " 0//1  0//1  0//1  1//1  0//1  0//1\n",
       " 0//1  0//1  0//1  3//1  1//1  0//1\n",
       " 0//1  0//1  0//1  0//1  0//1  1//1"
      ]
     },
     "execution_count": 22,
     "metadata": {},
     "output_type": "execute_result"
    }
   ],
   "source": [
    "T = inv(Rational{Int}[coeff(w, l) for w in W, l in L])"
   ]
  },
  {
   "cell_type": "code",
   "execution_count": 23,
   "metadata": {},
   "outputs": [
    {
     "data": {
      "text/plain": [
       "6-element Array{Rational{Int64},1}:\n",
       "  1//1920\n",
       " -1//480 \n",
       "  1//240 \n",
       "  1//320 \n",
       "  7//960 \n",
       " -1//480 "
      ]
     },
     "execution_count": 23,
     "metadata": {},
     "output_type": "execute_result"
    }
   ],
   "source": [
    "T*d"
   ]
  },
  {
   "cell_type": "code",
   "execution_count": 24,
   "metadata": {},
   "outputs": [
    {
     "data": {
      "text/plain": [
       "1//1920*[A,[A,[A,[A,B]]]]+(-1//480)*[A,[A,[[A,B],B]]]+1//320*[A,[[[A,B],B],B]]+7//960*[[A,B],[[A,B],B]]+1//240*[[A,[A,B]],[A,B]]+(-1//480)*[[[[A,B],B],B],B]"
      ]
     },
     "execution_count": 24,
     "metadata": {},
     "output_type": "execute_result"
    }
   ],
   "source": [
    "D = sum(T*d.*L)"
   ]
  },
  {
   "cell_type": "code",
   "execution_count": 25,
   "metadata": {},
   "outputs": [
    {
     "data": {
      "text/plain": [
       "exp(1//2*A)*exp(1//2*B)*exp(1//48*[A,[A,B]]+(-1//24)*[[A,B],B])*exp(1//1920*[A,[A,[A,[A,B]]]]+(-1//480)*[A,[A,[[A,B],B]]]+1//320*[A,[[[A,B],B],B]]+7//960*[[A,B],[[A,B],B]]+1//240*[[A,[A,B]],[A,B]]+(-1//480)*[[[[A,B],B],B],B])*exp(1//48*[A,[A,B]]+(-1//24)*[[A,B],B])*exp(1//2*B)*exp(1//2*A)"
      ]
     },
     "execution_count": 25,
     "metadata": {},
     "output_type": "execute_result"
    }
   ],
   "source": [
    "Z6 = exp(1//2*A)*exp(1//2*B)*exp(1//2*C)exp(D)*exp(1//2*C)*exp(1//2*B)*exp(1//2*A)"
   ]
  },
  {
   "cell_type": "code",
   "execution_count": 26,
   "metadata": {},
   "outputs": [
    {
     "data": {
      "text/plain": [
       "23-element Array{Expocon.Word,1}:\n",
       " A          \n",
       " B          \n",
       " A.B        \n",
       " A.A.B      \n",
       " A.B.B      \n",
       " A.A.A.B    \n",
       " A.A.B.B    \n",
       " A.B.B.B    \n",
       " A.A.A.A.B  \n",
       " A.A.A.B.B  \n",
       " A.A.B.A.B  \n",
       " A.A.B.B.B  \n",
       " A.B.A.B.B  \n",
       " A.B.B.B.B  \n",
       " A.A.A.A.A.B\n",
       " A.A.A.A.B.B\n",
       " A.A.A.B.A.B\n",
       " A.A.A.B.B.B\n",
       " A.A.B.A.B.B\n",
       " A.A.B.B.A.B\n",
       " A.A.B.B.B.B\n",
       " A.B.A.B.B.B\n",
       " A.B.B.B.B.B"
      ]
     },
     "execution_count": 26,
     "metadata": {},
     "output_type": "execute_result"
    }
   ],
   "source": [
    "W = lyndon_words([A, B], 6)"
   ]
  },
  {
   "cell_type": "code",
   "execution_count": 27,
   "metadata": {},
   "outputs": [
    {
     "data": {
      "text/plain": [
       "23-element Array{Rational{Int64},1}:\n",
       " 0//1\n",
       " 0//1\n",
       " 0//1\n",
       " 0//1\n",
       " 0//1\n",
       " 0//1\n",
       " 0//1\n",
       " 0//1\n",
       " 0//1\n",
       " 0//1\n",
       " 0//1\n",
       " 0//1\n",
       " 0//1\n",
       " 0//1\n",
       " 0//1\n",
       " 0//1\n",
       " 0//1\n",
       " 0//1\n",
       " 0//1\n",
       " 0//1\n",
       " 0//1\n",
       " 0//1\n",
       " 0//1"
      ]
     },
     "execution_count": 27,
     "metadata": {},
     "output_type": "execute_result"
    }
   ],
   "source": [
    "coeffs(W, Z6)-coeffs(W, exp(A+B))"
   ]
  },
  {
   "cell_type": "code",
   "execution_count": 28,
   "metadata": {},
   "outputs": [
    {
     "data": {
      "text/plain": [
       "6-element Array{Expocon.Word,1}:\n",
       " A.A.A.A.B\n",
       " A.A.A.B.B\n",
       " A.A.B.A.B\n",
       " A.A.B.B.B\n",
       " A.B.A.B.B\n",
       " A.B.B.B.B"
      ]
     },
     "execution_count": 28,
     "metadata": {},
     "output_type": "execute_result"
    }
   ],
   "source": [
    "W = lyndon_words([A, B], 5, all_lower_terms=false)"
   ]
  },
  {
   "cell_type": "code",
   "execution_count": 29,
   "metadata": {},
   "outputs": [
    {
     "data": {
      "text/plain": [
       "6-element Array{Expocon.SimpleCommutator,1}:\n",
       " [A,[A,[A,[B,A]]]]\n",
       " [B,[A,[A,[B,A]]]]\n",
       " [A,[B,[A,[B,A]]]]\n",
       " [B,[B,[A,[B,A]]]]\n",
       " [A,[B,[B,[B,A]]]]\n",
       " [B,[B,[B,[B,A]]]]"
      ]
     },
     "execution_count": 29,
     "metadata": {},
     "output_type": "execute_result"
    }
   ],
   "source": [
    "R = rightnormed_basis([A, B], 5, all_lower_terms=false)"
   ]
  },
  {
   "cell_type": "code",
   "execution_count": 30,
   "metadata": {},
   "outputs": [
    {
     "data": {
      "text/plain": [
       "6×6 Array{Rational{Int64},2}:\n",
       " -1//1   0//1   0//1   0//1   0//1  0//1\n",
       "  0//1  -2//1  -1//1   0//1   0//1  0//1\n",
       "  0//1   3//1   1//1   0//1   0//1  0//1\n",
       "  0//1   0//1   0//1  -3//1  -1//1  0//1\n",
       "  0//1   0//1   0//1   2//1   1//1  0//1\n",
       "  0//1   0//1   0//1   0//1   0//1  1//1"
      ]
     },
     "execution_count": 30,
     "metadata": {},
     "output_type": "execute_result"
    }
   ],
   "source": [
    "T = inv(Rational{Int}[coeff(w, r) for w in W, r in R])"
   ]
  },
  {
   "cell_type": "code",
   "execution_count": 31,
   "metadata": {},
   "outputs": [
    {
     "data": {
      "text/plain": [
       "(-1//240)*[B,[A,[A,[B,A]]]]+1//240*[A,[B,[B,[B,A]]]]+1//480*[A,[B,[A,[B,A]]]]+(-1//1920)*[A,[A,[A,[B,A]]]]+(-7//960)*[B,[B,[A,[B,A]]]]+(-1//480)*[B,[B,[B,[B,A]]]]"
      ]
     },
     "execution_count": 31,
     "metadata": {},
     "output_type": "execute_result"
    }
   ],
   "source": [
    "D1 = sum(T*d.*R)"
   ]
  },
  {
   "cell_type": "code",
   "execution_count": 32,
   "metadata": {},
   "outputs": [
    {
     "data": {
      "text/plain": [
       "exp(1//2*A)*exp(1//2*B)*exp(1//48*[A,[A,B]]+(-1//24)*[[A,B],B])*exp((-1//240)*[B,[A,[A,[B,A]]]]+1//240*[A,[B,[B,[B,A]]]]+1//480*[A,[B,[A,[B,A]]]]+(-1//1920)*[A,[A,[A,[B,A]]]]+(-7//960)*[B,[B,[A,[B,A]]]]+(-1//480)*[B,[B,[B,[B,A]]]])*exp(1//48*[A,[A,B]]+(-1//24)*[[A,B],B])*exp(1//2*B)*exp(1//2*A)"
      ]
     },
     "execution_count": 32,
     "metadata": {},
     "output_type": "execute_result"
    }
   ],
   "source": [
    "Z6_rn = exp(1//2*A)*exp(1//2*B)*exp(1//2*C)exp(D1)*exp(1//2*C)*exp(1//2*B)*exp(1//2*A)"
   ]
  },
  {
   "cell_type": "code",
   "execution_count": 33,
   "metadata": {},
   "outputs": [
    {
     "data": {
      "text/plain": [
       "23-element Array{Expocon.Word,1}:\n",
       " A          \n",
       " B          \n",
       " A.B        \n",
       " A.A.B      \n",
       " A.B.B      \n",
       " A.A.A.B    \n",
       " A.A.B.B    \n",
       " A.B.B.B    \n",
       " A.A.A.A.B  \n",
       " A.A.A.B.B  \n",
       " A.A.B.A.B  \n",
       " A.A.B.B.B  \n",
       " A.B.A.B.B  \n",
       " A.B.B.B.B  \n",
       " A.A.A.A.A.B\n",
       " A.A.A.A.B.B\n",
       " A.A.A.B.A.B\n",
       " A.A.A.B.B.B\n",
       " A.A.B.A.B.B\n",
       " A.A.B.B.A.B\n",
       " A.A.B.B.B.B\n",
       " A.B.A.B.B.B\n",
       " A.B.B.B.B.B"
      ]
     },
     "execution_count": 33,
     "metadata": {},
     "output_type": "execute_result"
    }
   ],
   "source": [
    "W = lyndon_words([A, B], 6)"
   ]
  },
  {
   "cell_type": "code",
   "execution_count": 34,
   "metadata": {},
   "outputs": [
    {
     "data": {
      "text/plain": [
       "23-element Array{Rational{Int64},1}:\n",
       " 0//1\n",
       " 0//1\n",
       " 0//1\n",
       " 0//1\n",
       " 0//1\n",
       " 0//1\n",
       " 0//1\n",
       " 0//1\n",
       " 0//1\n",
       " 0//1\n",
       " 0//1\n",
       " 0//1\n",
       " 0//1\n",
       " 0//1\n",
       " 0//1\n",
       " 0//1\n",
       " 0//1\n",
       " 0//1\n",
       " 0//1\n",
       " 0//1\n",
       " 0//1\n",
       " 0//1\n",
       " 0//1"
      ]
     },
     "execution_count": 34,
     "metadata": {},
     "output_type": "execute_result"
    }
   ],
   "source": [
    "coeffs(W, Z6_rn)-coeffs(W, exp(A+B))"
   ]
  },
  {
   "cell_type": "markdown",
   "metadata": {},
   "source": [
    "### Computation of $\\hat{\\mathcal{D}}$"
   ]
  },
  {
   "cell_type": "code",
   "execution_count": 35,
   "metadata": {},
   "outputs": [
    {
     "data": {
      "text/plain": [
       "C"
      ]
     },
     "execution_count": 35,
     "metadata": {},
     "output_type": "execute_result"
    }
   ],
   "source": [
    "A = Generator(\"A\")\n",
    "B = Generator(\"B\")\n",
    "C = Generator(\"C\", 3)"
   ]
  },
  {
   "cell_type": "code",
   "execution_count": 36,
   "metadata": {},
   "outputs": [
    {
     "data": {
      "text/plain": [
       "3//1*C+(-1//2)*exp((-1//2)*C)*exp((-1//2)*B)*exp((-1//2)*A)*B*exp(1//2*A)*exp(1//2*B)*exp(1//2*C)+1//2*exp((-1//2)*C)*B*exp(1//2*C)+(-1//2)*exp(1//2*C)*exp(1//2*B)*exp(1//2*A)*B*exp((-1//2)*A)*exp((-1//2)*B)*exp((-1//2)*C)+1//2*exp(1//2*C)*B*exp((-1//2)*C)"
      ]
     },
     "execution_count": 36,
     "metadata": {},
     "output_type": "execute_result"
    }
   ],
   "source": [
    "D=1//2*(\n",
    "     exp(-1//2*C)*B*exp(1//2*C)\n",
    "    +exp(1//2*C)*B*exp(-1//2*C)\n",
    "    -exp(-1//2*C)*exp(-1//2*B)*exp(-1//2*A)*B*exp(1//2*A)*exp(1//2*B)*exp(1//2*C) \n",
    "    -exp(1//2*C)*exp(1//2*B)*exp(1//2*A)*B*exp(-1//2*A)*exp(-1//2*B)*exp(-1//2*C)\n",
    "    +6*C\n",
    ")"
   ]
  },
  {
   "cell_type": "code",
   "execution_count": 37,
   "metadata": {},
   "outputs": [
    {
     "data": {
      "text/plain": [
       "59-element Array{Expocon.Word,1}:\n",
       " A        \n",
       " B        \n",
       " C        \n",
       " A.A.B    \n",
       " A.A.C    \n",
       " A.B.B    \n",
       " A.B.C    \n",
       " A.C.B    \n",
       " A.C.C    \n",
       " B.B.C    \n",
       " B.C.C    \n",
       " A.A.A.A.B\n",
       " A.A.A.A.C\n",
       " ⋮        \n",
       " A.C.B.C.B\n",
       " A.C.B.C.C\n",
       " A.C.C.B.B\n",
       " A.C.C.B.C\n",
       " A.C.C.C.B\n",
       " A.C.C.C.C\n",
       " B.B.B.B.C\n",
       " B.B.B.C.C\n",
       " B.B.C.B.C\n",
       " B.B.C.C.C\n",
       " B.C.B.C.C\n",
       " B.C.C.C.C"
      ]
     },
     "execution_count": 37,
     "metadata": {},
     "output_type": "execute_result"
    }
   ],
   "source": [
    "W = lyndon_words([A,B,C], 6, odd_terms_only=true )"
   ]
  },
  {
   "cell_type": "code",
   "execution_count": 38,
   "metadata": {},
   "outputs": [
    {
     "data": {
      "text/plain": [
       "59-element Array{Expocon.Element,1}:\n",
       " A                \n",
       " B                \n",
       " C                \n",
       " [A,[B,A]]        \n",
       " [A,[C,A]]        \n",
       " [B,[B,A]]        \n",
       " [C,[B,A]]        \n",
       " [B,[C,A]]        \n",
       " [C,[C,A]]        \n",
       " [B,[C,B]]        \n",
       " [C,[C,B]]        \n",
       " [A,[A,[A,[B,A]]]]\n",
       " [A,[A,[A,[C,A]]]]\n",
       " ⋮                \n",
       " [B,[C,[B,[C,A]]]]\n",
       " [C,[C,[B,[C,A]]]]\n",
       " [B,[B,[C,[C,A]]]]\n",
       " [C,[B,[C,[C,A]]]]\n",
       " [B,[C,[C,[C,A]]]]\n",
       " [C,[C,[C,[C,A]]]]\n",
       " [B,[B,[B,[C,B]]]]\n",
       " [C,[B,[B,[C,B]]]]\n",
       " [B,[C,[B,[C,B]]]]\n",
       " [C,[C,[B,[C,B]]]]\n",
       " [B,[C,[C,[C,B]]]]\n",
       " [C,[C,[C,[C,B]]]]"
      ]
     },
     "execution_count": 38,
     "metadata": {},
     "output_type": "execute_result"
    }
   ],
   "source": [
    "R = rightnormed_basis([A, B, C], 6, odd_terms_only=true)"
   ]
  },
  {
   "cell_type": "code",
   "execution_count": 39,
   "metadata": {},
   "outputs": [
    {
     "data": {
      "text/plain": [
       "59×59 Array{Rational{Int64},2}:\n",
       " 1//1  0//1  0//1   0//1   0//1  0//1  …   0//1   0//1   0//1   0//1  0//1\n",
       " 0//1  1//1  0//1   0//1   0//1  0//1      0//1   0//1   0//1   0//1  0//1\n",
       " 0//1  0//1  1//1   0//1   0//1  0//1      0//1   0//1   0//1   0//1  0//1\n",
       " 0//1  0//1  0//1  -1//1   0//1  0//1      0//1   0//1   0//1   0//1  0//1\n",
       " 0//1  0//1  0//1   0//1  -1//1  0//1      0//1   0//1   0//1   0//1  0//1\n",
       " 0//1  0//1  0//1   0//1   0//1  1//1  …   0//1   0//1   0//1   0//1  0//1\n",
       " 0//1  0//1  0//1   0//1   0//1  0//1      0//1   0//1   0//1   0//1  0//1\n",
       " 0//1  0//1  0//1   0//1   0//1  0//1      0//1   0//1   0//1   0//1  0//1\n",
       " 0//1  0//1  0//1   0//1   0//1  0//1      0//1   0//1   0//1   0//1  0//1\n",
       " 0//1  0//1  0//1   0//1   0//1  0//1      0//1   0//1   0//1   0//1  0//1\n",
       " 0//1  0//1  0//1   0//1   0//1  0//1  …   0//1   0//1   0//1   0//1  0//1\n",
       " 0//1  0//1  0//1   0//1   0//1  0//1      0//1   0//1   0//1   0//1  0//1\n",
       " 0//1  0//1  0//1   0//1   0//1  0//1      0//1   0//1   0//1   0//1  0//1\n",
       "  ⋮                               ⋮    ⋱           ⋮                      \n",
       " 0//1  0//1  0//1   0//1   0//1  0//1      0//1   0//1   0//1   0//1  0//1\n",
       " 0//1  0//1  0//1   0//1   0//1  0//1      0//1   0//1   0//1   0//1  0//1\n",
       " 0//1  0//1  0//1   0//1   0//1  0//1      0//1   0//1   0//1   0//1  0//1\n",
       " 0//1  0//1  0//1   0//1   0//1  0//1  …   0//1   0//1   0//1   0//1  0//1\n",
       " 0//1  0//1  0//1   0//1   0//1  0//1      0//1   0//1   0//1   0//1  0//1\n",
       " 0//1  0//1  0//1   0//1   0//1  0//1      0//1   0//1   0//1   0//1  0//1\n",
       " 0//1  0//1  0//1   0//1   0//1  0//1      0//1   0//1   0//1   0//1  0//1\n",
       " 0//1  0//1  0//1   0//1   0//1  0//1     -2//1  -1//1   0//1   0//1  0//1\n",
       " 0//1  0//1  0//1   0//1   0//1  0//1  …   3//1   1//1   0//1   0//1  0//1\n",
       " 0//1  0//1  0//1   0//1   0//1  0//1      0//1   0//1  -3//1  -1//1  0//1\n",
       " 0//1  0//1  0//1   0//1   0//1  0//1      0//1   0//1   2//1   1//1  0//1\n",
       " 0//1  0//1  0//1   0//1   0//1  0//1      0//1   0//1   0//1   0//1  1//1"
      ]
     },
     "execution_count": 39,
     "metadata": {},
     "output_type": "execute_result"
    }
   ],
   "source": [
    "T = inv(Rational{Int}[coeff(w, r) for w in W, r in R])"
   ]
  },
  {
   "cell_type": "code",
   "execution_count": 40,
   "metadata": {},
   "outputs": [
    {
     "name": "stdout",
     "output_type": "stream",
     "text": [
      "0//1\tt^0\tA\n",
      "0//1\tt^0\tB\n",
      "3//1\tt^2\tC\n",
      "1//8\tt^2\t[A,[B,A]]\n",
      "0//1\tt^4\t[A,[C,A]]\n",
      "1//4\tt^2\t[B,[B,A]]\n",
      "1//4\tt^4\t[C,[B,A]]\n",
      "0//1\tt^4\t[B,[C,A]]\n",
      "0//1\tt^4\t[B,[C,B]]\n",
      "1//384\tt^4\t[A,[A,[A,[B,A]]]]\n",
      "1//96\tt^4\t[B,[A,[A,[B,A]]]]\n",
      "0//1\tt^4\t[A,[B,[A,[B,A]]]]\n",
      "1//64\tt^4\t[B,[B,[A,[B,A]]]]\n",
      "0//1\tt^4\t[A,[B,[B,[B,A]]]]\n",
      "1//96\tt^4\t[B,[B,[B,[B,A]]]]\n"
     ]
    }
   ],
   "source": [
    "c = T*coeffs(W, D)\n",
    "for j=1:length(W)\n",
    "    d = degree(R[j])\n",
    "    if d<=5\n",
    "        println(\"$(c[j])\\tt^$(d-1)\\t$(R[j])\")\n",
    "    end\n",
    "end"
   ]
  },
  {
   "cell_type": "code",
   "execution_count": null,
   "metadata": {},
   "outputs": [],
   "source": []
  }
 ],
 "metadata": {
  "kernelspec": {
   "display_name": "Julia 0.6.1",
   "language": "julia",
   "name": "julia-0.6"
  },
  "language_info": {
   "file_extension": ".jl",
   "mimetype": "application/julia",
   "name": "julia",
   "version": "0.6.1"
  }
 },
 "nbformat": 4,
 "nbformat_minor": 2
}
